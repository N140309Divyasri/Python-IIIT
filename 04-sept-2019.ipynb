{
 "cells": [
  {
   "cell_type": "markdown",
   "metadata": {},
   "source": [
    "\n",
    "### Markdown Basics\n",
    "# heading 1\n",
    "## heading 2\n",
    "* **Bold**\n",
    "* *Italic*\n",
    "* ***italic and bold***\n",
    "* normal text\n",
    "* text\n",
    "    * subtext\n",
    "    - sublist 2\n",
    "> 1. ordered list 1\n",
    "> 2. orders list 2\n",
    ">> - [ ] option1\n",
    ">> - [ ] option2\n",
    ">> - [x] option 3\n",
    "\n",
    "\\* escape\n",
    "[link].(https://gmail.com)\n",
    "\n",
    "I have 10 items [Google] [1] than from [yahoo] [2].\n",
    "\n",
    "[1]: http://google.com/ \"Google\"\n",
    "[2]: http://search.yahoo.com/ \"yahoo search\"\n",
    "\n",
    "`printf(\"hello markdown\")`\n",
    "\n",
    "<https://google.com>\n",
    "\n",
    "[jupyter logo](logo.png)\n",
    "\n",
    "<img src=\"logo.png\" height=\"50px\" width=\"50px\" style=\"float:left\">\n",
    "\n",
    " "
   ]
  },
  {
   "cell_type": "code",
   "execution_count": null,
   "metadata": {},
   "outputs": [],
   "source": []
  }
 ],
 "metadata": {
  "kernelspec": {
   "display_name": "Python 3",
   "language": "python",
   "name": "python3"
  },
  "language_info": {
   "codemirror_mode": {
    "name": "ipython",
    "version": 3
   },
   "file_extension": ".py",
   "mimetype": "text/x-python",
   "name": "python",
   "nbconvert_exporter": "python",
   "pygments_lexer": "ipython3",
   "version": "3.7.3"
  }
 },
 "nbformat": 4,
 "nbformat_minor": 2
}
